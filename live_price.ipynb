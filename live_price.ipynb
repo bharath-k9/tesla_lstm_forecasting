{
 "cells": [
  {
   "cell_type": "code",
   "execution_count": 1,
   "id": "86b305e1",
   "metadata": {},
   "outputs": [
    {
     "name": "stdout",
     "output_type": "stream",
     "text": [
      "YF.download() has changed argument auto_adjust default to True\n"
     ]
    },
    {
     "name": "stderr",
     "output_type": "stream",
     "text": [
      "[*********************100%***********************]  1 of 1 completed\n",
      "C:\\Users\\DELL\\AppData\\Local\\Temp\\ipykernel_20108\\2184363914.py:24: FutureWarning: DataFrame.fillna with 'method' is deprecated and will raise in a future version. Use obj.ffill() or obj.bfill() instead.\n",
      "  df = df.fillna(method='ffill')  # Fill missing values\n"
     ]
    },
    {
     "name": "stdout",
     "output_type": "stream",
     "text": [
      "Raw data from yf.download:\n",
      "Price           Close       High        Low       Open     Volume\n",
      "Ticker           TSLA       TSLA       TSLA       TSLA       TSLA\n",
      "Date                                                             \n",
      "2020-04-09  38.200001  38.345333  37.140667  37.472668  204750000\n",
      "2020-04-13  43.396667  43.466667  38.702000  39.344002  337131000\n",
      "2020-04-14  47.326000  49.458668  46.161999  46.598000  458647500\n",
      "2020-04-15  48.655334  50.208668  47.333332  49.466667  353655000\n",
      "2020-04-16  49.680668  50.630001  47.114666  47.796001  309868500\n",
      "Columns available: MultiIndex([( 'Close', 'TSLA'),\n",
      "            (  'High', 'TSLA'),\n",
      "            (   'Low', 'TSLA'),\n",
      "            (  'Open', 'TSLA'),\n",
      "            ('Volume', 'TSLA')],\n",
      "           names=['Price', 'Ticker'])\n",
      "DataFrame dtypes after conversion:\n",
      "ds    datetime64[ns]\n",
      "y            float64\n",
      "dtype: object\n",
      "First few rows of df:\n",
      "          ds          y\n",
      "0 2020-04-09  38.200001\n",
      "1 2020-04-13  43.396667\n",
      "2 2020-04-14  47.326000\n",
      "3 2020-04-15  48.655334\n",
      "4 2020-04-16  49.680668\n"
     ]
    },
    {
     "name": "stderr",
     "output_type": "stream",
     "text": [
      "20:06:45 - cmdstanpy - INFO - Chain [1] start processing\n",
      "20:06:45 - cmdstanpy - INFO - Chain [1] done processing\n"
     ]
    },
    {
     "name": "stdout",
     "output_type": "stream",
     "text": [
      "Preview of forecast:\n",
      "             ds        yhat  yhat_lower  yhat_upper\n",
      "1255 2025-04-08  334.734537  289.266572  377.768676\n",
      "1256 2025-04-09  334.652747  290.489334  378.289313\n",
      "1257 2025-04-10  334.124132  288.988956  378.312718\n",
      "1258 2025-04-11  334.502736  287.160053  379.180060\n",
      "1261 2025-04-14  335.914708  292.067214  379.881449\n"
     ]
    }
   ],
   "source": [
    "# STEP 1: Import libraries\n",
    "from prophet import Prophet\n",
    "import yfinance as yf\n",
    "import pandas as pd\n",
    "from datetime import datetime, timedelta\n",
    "\n",
    "# STEP 2: Set stock and date range\n",
    "ticker = 'TSLA'\n",
    "end_date = datetime.today().strftime('%Y-%m-%d')\n",
    "start_date = (datetime.today() - timedelta(days=5*365)).strftime('%Y-%m-%d')\n",
    "\n",
    "# STEP 3: Download stock data from Yahoo Finance\n",
    "df = yf.download(ticker, start=start_date, end=end_date)\n",
    "print(\"Raw data from yf.download:\")\n",
    "print(df.head())  # Check raw output\n",
    "print(\"Columns available:\", df.columns)  # Verify column names\n",
    "\n",
    "# STEP 4: Prepare data\n",
    "# Select only 'Date' and 'Close', ensuring 'Close' is a Series\n",
    "df = df.reset_index()[['Date', 'Close']]\n",
    "df.columns = ['ds', 'y']  # Rename directly to 'ds' and 'y'\n",
    "df['ds'] = pd.to_datetime(df['ds'], errors='coerce')  # Force datetime\n",
    "df['y'] = pd.to_numeric(df['y'], errors='coerce')     # Ensure y is numeric, no squeeze needed\n",
    "df = df.fillna(method='ffill')  # Fill missing values\n",
    "\n",
    "# Debug\n",
    "print(\"DataFrame dtypes after conversion:\")\n",
    "print(df.dtypes)  # Should show ds: datetime64[ns], y: float64\n",
    "print(\"First few rows of df:\")\n",
    "print(df.head())  # Verify data\n",
    "\n",
    "# Check for NaN values or empty DataFrame\n",
    "if df.empty:\n",
    "    raise ValueError(\"Downloaded DataFrame is empty. Check ticker or date range.\")\n",
    "if df['ds'].isnull().any() or df['y'].isnull().any():\n",
    "    raise ValueError(\"NaN values found in 'ds' or 'y' after conversion\")\n",
    "\n",
    "# STEP 5: Fit Prophet model\n",
    "model = Prophet(\n",
    "    changepoint_prior_scale=0.05,\n",
    "    weekly_seasonality=True,\n",
    "    yearly_seasonality=True\n",
    ")\n",
    "model.add_country_holidays('US')\n",
    "model.fit(df)\n",
    "\n",
    "# STEP 6: Forecast the next 30 days\n",
    "future = model.make_future_dataframe(periods=30)\n",
    "forecast = model.predict(future)\n",
    "\n",
    "# STEP 7: Extract last 30 days of forecast, filter to weekdays\n",
    "forecast_out = forecast[['ds', 'yhat', 'yhat_lower', 'yhat_upper']].tail(30)\n",
    "forecast_out = forecast_out[forecast_out['ds'].dt.dayofweek < 5]\n",
    "\n",
    "# STEP 8: Export to CSV for Power BI\n",
    "forecast_out.to_csv(\"stock_forecast.csv\", index=False)\n",
    "\n",
    "# STEP 9: (Optional) Show preview\n",
    "print(\"Preview of forecast:\")\n",
    "print(forecast_out.head())"
   ]
  },
  {
   "cell_type": "code",
   "execution_count": null,
   "id": "a740e7bd",
   "metadata": {},
   "outputs": [
    {
     "name": "stdout",
     "output_type": "stream",
     "text": [
      "  Ticker       Price                 Timestamp\n",
      "0   TSLA  249.605896 2025-04-08 10:36:00-04:00\n",
      "Data saved to live_stock_price.csv\n",
      "Updated at 2025-04-08 20:06:46.550801: 249.60589599609375\n",
      "Updated at 2025-04-08 20:06:56.634525: 249.60589599609375\n",
      "Updated at 2025-04-08 20:07:06.751075: 249.3800048828125\n",
      "Updated at 2025-04-08 20:07:16.855546: 249.1300048828125\n",
      "Updated at 2025-04-08 20:07:26.934875: 249.1300048828125\n",
      "Updated at 2025-04-08 20:07:37.071938: 249.63429260253906\n",
      "Updated at 2025-04-08 20:07:47.171573: 249.63429260253906\n",
      "Updated at 2025-04-08 20:07:57.299360: 249.2899932861328\n",
      "Updated at 2025-04-08 20:08:07.389845: 249.2899932861328\n",
      "Updated at 2025-04-08 20:08:17.541580: 248.3800048828125\n",
      "Updated at 2025-04-08 20:08:27.641529: 248.3800048828125\n",
      "Updated at 2025-04-08 20:08:37.768711: 248.30999755859375\n"
     ]
    }
   ],
   "source": [
    "import yfinance as yf\n",
    "import pandas as pd\n",
    "from datetime import datetime\n",
    "import time\n",
    "\n",
    "# Define the stock ticker\n",
    "ticker_symbol = \"TSLA\"  # Change as needed\n",
    "\n",
    "# Create a Ticker object\n",
    "ticker = yf.Ticker(ticker_symbol)\n",
    "\n",
    "# Function to get the latest price\n",
    "def get_latest_price():\n",
    "    live_data = ticker.history(period=\"1d\", interval=\"1m\")  # 1-minute interval for near real-time\n",
    "    latest_price = live_data['Close'].iloc[-1]\n",
    "    latest_time = live_data.index[-1]\n",
    "    return pd.DataFrame({\n",
    "        \"Ticker\": [ticker_symbol],\n",
    "        \"Price\": [latest_price],\n",
    "        \"Timestamp\": [latest_time]\n",
    "    })\n",
    "\n",
    "# Test the function\n",
    "data = get_latest_price()\n",
    "print(data)\n",
    "\n",
    "# Save the latest data to a CSV file\n",
    "data.to_csv(\"live_stock_price.csv\", index=False)\n",
    "print(\"Data saved to live_stock_price.csv\")\n",
    "\n",
    "\n",
    "# Loop to update the CSV every 10 seconds\n",
    "while True:\n",
    "    data = get_latest_price()\n",
    "    data.to_csv(\"live_stock_price.csv\", index=False)\n",
    "    print(f\"Updated at {datetime.now()}: {data['Price'].iloc[0]}\")\n",
    "    time.sleep(10)  # Update every 10 seconds"
   ]
  },
  {
   "cell_type": "code",
   "execution_count": null,
   "id": "883d6297",
   "metadata": {},
   "outputs": [],
   "source": []
  }
 ],
 "metadata": {
  "kernelspec": {
   "display_name": "Python (stock_dashboard2)",
   "language": "python",
   "name": "stock_dashboard2"
  },
  "language_info": {
   "codemirror_mode": {
    "name": "ipython",
    "version": 3
   },
   "file_extension": ".py",
   "mimetype": "text/x-python",
   "name": "python",
   "nbconvert_exporter": "python",
   "pygments_lexer": "ipython3",
   "version": "3.10.0"
  }
 },
 "nbformat": 4,
 "nbformat_minor": 5
}
